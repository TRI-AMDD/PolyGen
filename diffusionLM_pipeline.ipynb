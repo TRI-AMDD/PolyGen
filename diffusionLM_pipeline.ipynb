{
 "cells": [
  {
   "cell_type": "code",
   "execution_count": 1,
   "id": "5593892c",
   "metadata": {},
   "outputs": [
    {
     "name": "stderr",
     "output_type": "stream",
     "text": [
      "/home/ec2-user/anaconda3/envs/diffusionLM_github/lib/python3.8/site-packages/tqdm/auto.py:21: TqdmWarning: IProgress not found. Please update jupyter and ipywidgets. See https://ipywidgets.readthedocs.io/en/stable/user_install.html\n",
      "  from .autonotebook import tqdm as notebook_tqdm\n",
      "Skipped loading some Tensorflow models, missing a dependency. No module named 'tensorflow'\n",
      "Skipped loading modules with pytorch-geometric dependency, missing a dependency. No module named 'torch_geometric'\n",
      "Skipped loading modules with pytorch-geometric dependency, missing a dependency. cannot import name 'DMPNN' from 'deepchem.models.torch_models' (/home/ec2-user/anaconda3/envs/diffusionLM_github/lib/python3.8/site-packages/deepchem/models/torch_models/__init__.py)\n",
      "Skipped loading modules with pytorch-lightning dependency, missing a dependency. No module named 'pytorch_lightning'\n",
      "Skipped loading some Jax models, missing a dependency. No module named 'jax'\n"
     ]
    }
   ],
   "source": [
    "import sys\n",
    "\n",
    "\n",
    "import numpy as np\n",
    "import os\n",
    "import torch\n",
    "from diffusionLM.pipeline import diffusionLM \n",
    "import pandas as pd\n",
    "from deepchem.feat.smiles_tokenizer import SmilesTokenizer\n",
    "from rdkit import Chem\n",
    "from rdkit.Chem import Draw, AllChem, rdchem\n",
    "from IPython.display import Image, display\n",
    "import sys\n",
    "from torch.utils.data import Dataset, DataLoader\n",
    "from sklearn.model_selection import train_test_split\n"
   ]
  },
  {
   "cell_type": "code",
   "execution_count": 6,
   "id": "8651c555",
   "metadata": {},
   "outputs": [
    {
     "name": "stdout",
     "output_type": "stream",
     "text": [
      "/home/ec2-user/SageMaker/github/PolyGen-main/diffusionLM/datasets/htpmd_conditional\n",
      "python /home/ec2-user/SageMaker/github/PolyGen-main/diffusionLM/improved-diffusion/scripts/run_train.py --diff_steps 2000 --model_arch transformer --lr 0.0001 --lr_anneal_steps 100000 --seed 101 --noise_schedule sqrt --in_channel 16 --padding_mode pad --bsz 64 --modality roc --submit no --notes xstart_e2e --app \"--predict_xstart True --training_mode e2e  --vocab_size 19 --roc_train /home/ec2-user/SageMaker/github/PolyGen-main/diffusionLM/datasets/htpmd_conditional\"\n",
      "########################\n",
      "Evaluation metrics: uniqueness, novelty, validity, synthesibility, similarity, diversity\n",
      "(0.6763754045307444, 0.13915857605177995, 0.9870550161812298, 0.9736842105263158, 0.29085734336792707, 0.6869902464627571)\n"
     ]
    }
   ],
   "source": [
    "pipeline = diffusionLM()\n",
    "\n",
    "# Data\n",
    "data_config = pipeline.get_default_data_config()\n",
    "data_config.task = \"conditional\"\n",
    "data_config.trainset_path = sys.path[0] + \"/diffusionLM/datasets/htpmd_conditional\"\n",
    "# model config\n",
    "print(data_config.trainset_path)\n",
    "model_config = pipeline.get_default_model_config()\n",
    "\n",
    "# Generate train job file\n",
    "# Please go to \"improved-diffusion\" folder and run \"bash train_(un)conditional.sh\"\n",
    "train_config = pipeline.get_default_train_config()\n",
    "pipeline.train_job(model_config, data_config, train_config)\n",
    "\n",
    "# Generate sampling job file\n",
    "# Once the training is done, please go to \"improved-diffusion\" folder and run \"bash generation_(un)conditional.sh\" to generate samples\n",
    "generate_config = pipeline.get_default_generate_config()\n",
    "generate_config.model_index = \"010000\" # ckpt used for generation\n",
    "pipeline.generate_job(model_config, data_config, train_config, generate_config)\n",
    "\n",
    "# Evaluation of the generation\n",
    "# The generated results are stored under \"improved-diffusion/generation_outputs\"\n",
    "generated_poly_file = sys.path[0] + \"/diffusionLM/improved-diffusion/generation_outputs/conditional/generate_mol_epoch100000.txt\"\n",
    "\n",
    "print(\"########################\")\n",
    "print(\"Evaluation metrics: uniqueness, novelty, validity, synthesibility, similarity, diversity\")\n",
    "print(pipeline.evaluate(generated_poly_file, \"conditional\"))"
   ]
  },
  {
   "cell_type": "code",
   "execution_count": null,
   "id": "cf23e5ac",
   "metadata": {},
   "outputs": [],
   "source": []
  }
 ],
 "metadata": {
  "kernelspec": {
   "display_name": "diffusionLM_github",
   "language": "python",
   "name": "diffusionlm_github"
  },
  "language_info": {
   "codemirror_mode": {
    "name": "ipython",
    "version": 3
   },
   "file_extension": ".py",
   "mimetype": "text/x-python",
   "name": "python",
   "nbconvert_exporter": "python",
   "pygments_lexer": "ipython3",
   "version": "3.8.18"
  }
 },
 "nbformat": 4,
 "nbformat_minor": 5
}
