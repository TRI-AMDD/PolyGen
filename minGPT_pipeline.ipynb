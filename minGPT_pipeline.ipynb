{
 "cells": [
  {
   "cell_type": "code",
   "execution_count": 8,
   "id": "5593892c",
   "metadata": {},
   "outputs": [],
   "source": [
    "import pandas as pd\n",
    "import numpy as np\n",
    "import random\n",
    "import torch\n",
    "from torch.nn.utils.rnn import pad_sequence\n",
    "from torch.utils.data import Dataset\n",
    "from rdkit import Chem\n",
    "import sys\n",
    "from deepchem.feat.smiles_tokenizer import SmilesTokenizer\n",
    "from minGPT.pipeline import minGPT"
   ]
  },
  {
   "cell_type": "markdown",
   "id": "d5504b28-0785-4b35-b9f8-f63ca2f0bcc8",
   "metadata": {},
   "source": [
    "## Data preprocessing"
   ]
  },
  {
   "cell_type": "code",
   "execution_count": null,
   "id": "0b36bb88-5c31-47ab-bbfc-9f283898c5e8",
   "metadata": {},
   "outputs": [],
   "source": [
    "pipeline = minGPT()\n",
    "data_config = pipeline.get_default_data_config()\n",
    "data_config.file_path = \"minGPT/htp_md.csv\"\n",
    "data_config.block_size = 64\n",
    "\n",
    "print(data_config)\n",
    "train_dataset, test_dataset = pipeline.data_preprocessing(data_config)"
   ]
  },
  {
   "cell_type": "code",
   "execution_count": 10,
   "id": "66681958-a1f1-4fcd-8216-e2a15fc54c7c",
   "metadata": {},
   "outputs": [],
   "source": [
    "## Model initializing"
   ]
  },
  {
   "cell_type": "code",
   "execution_count": null,
   "id": "9bdf2a24-8cd4-41c7-bedd-07525412f532",
   "metadata": {},
   "outputs": [],
   "source": [
    "# Model\n",
    "model_config = pipeline.get_default_model_config()\n",
    "model_config.model_type = 'gpt-nano'\n",
    "model_config.vocab_size = train_dataset.get_vocab_size()\n",
    "model_config.block_size = train_dataset.get_block_size()\n",
    "pipeline.load_model(model_config)"
   ]
  },
  {
   "cell_type": "markdown",
   "id": "4f8f6b2e-7ba9-4ee1-8a86-c6221893617f",
   "metadata": {},
   "source": [
    "## Training configuring"
   ]
  },
  {
   "cell_type": "code",
   "execution_count": null,
   "id": "29b97415-56ac-4b8d-bda6-214d93ab8e15",
   "metadata": {},
   "outputs": [],
   "source": [
    "# Train\n",
    "train_config = pipeline.get_default_train_config()\n",
    "print(\"--------Training configuration--------\")\n",
    "print(train_config)\n",
    "\n",
    "\n",
    "print(train_config.device)\n",
    "train_config.max_iters = 10000\n",
    "train_config.ckpt_path = \"./minGPT/ckpts/\"\n",
    "# Uncomment the following line if load from pre-trained model chkpts\n",
    "# train_config.pretrain = \"./ckpts/10000.pt\"\n",
    "\n",
    "## Define call back function\n",
    "def batch_end_callback(trainer):\n",
    "    if trainer.iter_num % 100 == 0:\n",
    "        print(f\"iter_dt {trainer.iter_dt * 1000:.2f}ms; iter {trainer.iter_num}: train loss {trainer.loss.item():.5f}, val loss {trainer.loss_val.item():.5f}\")\n",
    "\n",
    "train_config.call_back = batch_end_callback\n",
    "# Uncomment the following line to start training\n",
    "# loss = pipeline.train(train_config)"
   ]
  },
  {
   "cell_type": "markdown",
   "id": "15b47532-ba38-4536-9161-d71a2f8489d3",
   "metadata": {},
   "source": [
    "## Generating with model"
   ]
  },
  {
   "cell_type": "code",
   "execution_count": null,
   "id": "f72b13fe-9653-4f6b-9d9b-cc4a00f51eea",
   "metadata": {},
   "outputs": [],
   "source": [
    "generate_config = pipeline.get_default_generate_config()\n",
    "generate_config.ckpt_path = \"./minGPT/ckpts/10000.pt\"\n",
    "assert generate_config.task == data_config.task\n",
    "print(generate_config)\n",
    "\n",
    "results = pipeline.generate(generate_config)"
   ]
  },
  {
   "cell_type": "markdown",
   "id": "9dc3e543-184d-40f6-a662-2f5aae481ea1",
   "metadata": {},
   "source": [
    "## Evaluate model\n",
    "Calculate the scores for \n",
    "**uniqueness, novelty, validity, synthesibility, similarity, diversity**, respectively"
   ]
  },
  {
   "cell_type": "code",
   "execution_count": null,
   "id": "5c824f5e",
   "metadata": {},
   "outputs": [],
   "source": [
    "print(pipeline.evaluate())"
   ]
  }
 ],
 "metadata": {
  "kernelspec": {
   "display_name": "venv38",
   "language": "python",
   "name": "python3"
  },
  "language_info": {
   "codemirror_mode": {
    "name": "ipython",
    "version": 3
   },
   "file_extension": ".py",
   "mimetype": "text/x-python",
   "name": "python",
   "nbconvert_exporter": "python",
   "pygments_lexer": "ipython3",
   "version": "3.8.20"
  }
 },
 "nbformat": 4,
 "nbformat_minor": 5
}
